{
 "cells": [
  {
   "cell_type": "markdown",
   "id": "52ec277c",
   "metadata": {},
   "source": [
    "## Блок 1. HashingTF и IDF\n",
    "1) Подготовить фичи комментариев с помощью HashingTF и IDF\n",
    "\n",
    "2) Обучить линейные классификаторы и сравнить метрики качествамоделей\n",
    "\n",
    "3) Сделать выводы о влиянии параметра numFeatures в HashingTF накачество метрик\n",
    "\n"
   ]
  },
  {
   "cell_type": "code",
   "execution_count": 50,
   "id": "8d8343a7",
   "metadata": {},
   "outputs": [],
   "source": [
    "from pyspark.sql import SparkSession\n",
    "from pyspark.sql.types import IntegerType\n",
    "\n",
    "from pyspark.ml import Pipeline\n",
    "from pyspark.ml.feature import Tokenizer, HashingTF, IDF, Word2Vec\n",
    "from pyspark.ml.classification import LogisticRegression\n",
    "from pyspark.ml.evaluation import BinaryClassificationEvaluator\n",
    "from pyspark.ml.tuning import CrossValidator, ParamGridBuilder\n",
    "\n",
    "import matplotlib as mpl"
   ]
  },
  {
   "cell_type": "code",
   "execution_count": 2,
   "id": "c67a0108",
   "metadata": {},
   "outputs": [
    {
     "name": "stdout",
     "output_type": "stream",
     "text": [
      "22/12/08 12:02:47 WARN Utils: Your hostname, MacBook-Pro-Faina.local resolves to a loopback address: 127.0.0.1; using 192.168.0.54 instead (on interface en0)\n",
      "22/12/08 12:02:47 WARN Utils: Set SPARK_LOCAL_IP if you need to bind to another address\n"
     ]
    },
    {
     "name": "stderr",
     "output_type": "stream",
     "text": [
      "Setting default log level to \"WARN\".\n",
      "To adjust logging level use sc.setLogLevel(newLevel). For SparkR, use setLogLevel(newLevel).\n"
     ]
    },
    {
     "name": "stdout",
     "output_type": "stream",
     "text": [
      "22/12/08 12:02:48 WARN NativeCodeLoader: Unable to load native-hadoop library for your platform... using builtin-java classes where applicable\n"
     ]
    }
   ],
   "source": [
    "spark = SparkSession \\\n",
    "    .builder \\\n",
    "    .appName('Toxic comment') \\\n",
    "    .getOrCreate()"
   ]
  },
  {
   "cell_type": "code",
   "execution_count": 3,
   "id": "52883007",
   "metadata": {},
   "outputs": [],
   "source": [
    "train = (spark.read\n",
    "      .option('header','True')\n",
    "      .option('quote', '\"')\n",
    "      .option('escape', '\"')\n",
    "      .option('multiline', 'True')\n",
    "      .csv('train.csv'))\n",
    "\n",
    "test = (spark.read\n",
    "      .option('header','True')\n",
    "      .option('quote', '\"')\n",
    "      .option('escape', '\"')\n",
    "      .option('multiline', 'True')\n",
    "      .csv('test.csv'))\n",
    "\n",
    "test_labels = (spark.read\n",
    "      .option('header','True')\n",
    "      .option('quote', '\"')\n",
    "      .option('escape', '\"')\n",
    "      .option('multiline', 'True')\n",
    "      .csv('test_labels.csv'))\n",
    "\n",
    "test = test.join(test_labels, test.id == test_labels.id, \"inner\")\n"
   ]
  },
  {
   "cell_type": "code",
   "execution_count": 4,
   "id": "73e9ba8b",
   "metadata": {},
   "outputs": [
    {
     "name": "stdout",
     "output_type": "stream",
     "text": [
      "+----------------+--------------------+-----+------------+-------+------+------+-------------+\n",
      "|              id|        comment_text|toxic|severe_toxic|obscene|threat|insult|identity_hate|\n",
      "+----------------+--------------------+-----+------------+-------+------+------+-------------+\n",
      "|0000997932d777bf|Explanation\\nWhy ...|    0|           0|      0|     0|     0|            0|\n",
      "|000103f0d9cfb60f|D'aww! He matches...|    0|           0|      0|     0|     0|            0|\n",
      "|000113f07ec002fd|Hey man, I'm real...|    0|           0|      0|     0|     0|            0|\n",
      "|0001b41b1c6bb37e|\"\\nMore\\nI can't ...|    0|           0|      0|     0|     0|            0|\n",
      "|0001d958c54c6e35|You, sir, are my ...|    0|           0|      0|     0|     0|            0|\n",
      "|00025465d4725e87|\"\\n\\nCongratulati...|    0|           0|      0|     0|     0|            0|\n",
      "|0002bcb3da6cb337|COCKSUCKER BEFORE...|    1|           1|      1|     0|     1|            0|\n",
      "|00031b1e95af7921|Your vandalism to...|    0|           0|      0|     0|     0|            0|\n",
      "|00037261f536c51d|Sorry if the word...|    0|           0|      0|     0|     0|            0|\n",
      "|00040093b2687caa|alignment on this...|    0|           0|      0|     0|     0|            0|\n",
      "|0005300084f90edc|\"\\nFair use ratio...|    0|           0|      0|     0|     0|            0|\n",
      "|00054a5e18b50dd4|bbq \\n\\nbe a man ...|    0|           0|      0|     0|     0|            0|\n",
      "|0005c987bdfc9d4b|Hey... what is it...|    1|           0|      0|     0|     0|            0|\n",
      "|0006f16e4e9f292e|Before you start ...|    0|           0|      0|     0|     0|            0|\n",
      "|00070ef96486d6f9|Oh, and the girl ...|    0|           0|      0|     0|     0|            0|\n",
      "|00078f8ce7eb276d|\"\\n\\nJuelz Santan...|    0|           0|      0|     0|     0|            0|\n",
      "|0007e25b2121310b|Bye! \\n\\nDon't lo...|    1|           0|      0|     0|     0|            0|\n",
      "|000897889268bc93|REDIRECT Talk:Voy...|    0|           0|      0|     0|     0|            0|\n",
      "|0009801bd85e5806|The Mitsurugi poi...|    0|           0|      0|     0|     0|            0|\n",
      "|0009eaea3325de8c|Don't mean to bot...|    0|           0|      0|     0|     0|            0|\n",
      "+----------------+--------------------+-----+------------+-------+------+------+-------------+\n",
      "only showing top 20 rows\n",
      "\n"
     ]
    }
   ],
   "source": [
    "train.show()"
   ]
  },
  {
   "cell_type": "code",
   "execution_count": 6,
   "id": "b9c35e7c",
   "metadata": {},
   "outputs": [],
   "source": [
    "# Переведем все столбцы к числовому значению\n",
    "train = train.withColumn(\"toxic\", train[\"toxic\"].cast(IntegerType()))\n",
    "train = train.withColumn(\"severe_toxic\", train[\"severe_toxic\"].cast(IntegerType()))\n",
    "train = train.withColumn(\"obscene\", train[\"obscene\"].cast(IntegerType()))\n",
    "train = train.withColumn(\"threat\", train[\"threat\"].cast(IntegerType()))\n",
    "train = train.withColumn(\"insult\", train[\"insult\"].cast(IntegerType()))\n",
    "train = train.withColumn(\"identity_hate\", train[\"identity_hate\"].cast(IntegerType()))\n",
    "\n",
    "test = test.withColumn(\"toxic\", test[\"toxic\"].cast(IntegerType()))\n",
    "test = test.withColumn(\"severe_toxic\", test[\"severe_toxic\"].cast(IntegerType()))\n",
    "test = test.withColumn(\"obscene\", test[\"obscene\"].cast(IntegerType()))\n",
    "test = test.withColumn(\"threat\", test[\"threat\"].cast(IntegerType()))\n",
    "test = test.withColumn(\"insult\", test[\"insult\"].cast(IntegerType()))\n",
    "test = test.withColumn(\"identity_hate\", test[\"identity_hate\"].cast(IntegerType()))"
   ]
  },
  {
   "cell_type": "code",
   "execution_count": 53,
   "id": "02c3a9e7",
   "metadata": {},
   "outputs": [
    {
     "name": "stderr",
     "output_type": "stream",
     "text": [
      "                                                                                \r"
     ]
    },
    {
     "name": "stdout",
     "output_type": "stream",
     "text": [
      "22/12/08 13:03:19 WARN CacheManager: Asked to cache already cached data.\n",
      "22/12/08 13:03:19 WARN CacheManager: Asked to cache already cached data.\n"
     ]
    },
    {
     "name": "stderr",
     "output_type": "stream",
     "text": [
      "                                                                                \r"
     ]
    },
    {
     "name": "stdout",
     "output_type": "stream",
     "text": [
      "Crossval score for toxic label:  0.6957387855533179\n"
     ]
    },
    {
     "name": "stderr",
     "output_type": "stream",
     "text": [
      "                                                                                \r"
     ]
    },
    {
     "name": "stdout",
     "output_type": "stream",
     "text": [
      "Evaluation on test for toxic label: 0.6541356374715067\n"
     ]
    },
    {
     "name": "stderr",
     "output_type": "stream",
     "text": [
      "                                                                                \r"
     ]
    },
    {
     "name": "stdout",
     "output_type": "stream",
     "text": [
      "Crossval score for severe_toxic label:  0.7547631462267118\n"
     ]
    },
    {
     "name": "stderr",
     "output_type": "stream",
     "text": [
      "                                                                                \r"
     ]
    },
    {
     "name": "stdout",
     "output_type": "stream",
     "text": [
      "Evaluation on test for severe_toxic label: 0.6454056627179952\n"
     ]
    },
    {
     "name": "stderr",
     "output_type": "stream",
     "text": [
      "                                                                                \r"
     ]
    },
    {
     "name": "stdout",
     "output_type": "stream",
     "text": [
      "Crossval score for obscene label:  0.7112675758953456\n"
     ]
    },
    {
     "name": "stderr",
     "output_type": "stream",
     "text": [
      "                                                                                \r"
     ]
    },
    {
     "name": "stdout",
     "output_type": "stream",
     "text": [
      "Evaluation on test for obscene label: 0.6753577365279708\n"
     ]
    },
    {
     "name": "stderr",
     "output_type": "stream",
     "text": [
      "                                                                                \r"
     ]
    },
    {
     "name": "stdout",
     "output_type": "stream",
     "text": [
      "Crossval score for threat label:  0.692845788869684\n"
     ]
    },
    {
     "name": "stderr",
     "output_type": "stream",
     "text": [
      "                                                                                \r"
     ]
    },
    {
     "name": "stdout",
     "output_type": "stream",
     "text": [
      "Evaluation on test for threat label: 0.6993590603042165\n"
     ]
    },
    {
     "name": "stderr",
     "output_type": "stream",
     "text": [
      "                                                                                \r"
     ]
    },
    {
     "name": "stdout",
     "output_type": "stream",
     "text": [
      "Crossval score for insult label:  0.7282395899685272\n"
     ]
    },
    {
     "name": "stderr",
     "output_type": "stream",
     "text": [
      "                                                                                \r"
     ]
    },
    {
     "name": "stdout",
     "output_type": "stream",
     "text": [
      "Evaluation on test for insult label: 0.6780969320941418\n"
     ]
    },
    {
     "name": "stderr",
     "output_type": "stream",
     "text": [
      "                                                                                \r"
     ]
    },
    {
     "name": "stdout",
     "output_type": "stream",
     "text": [
      "Crossval score for identity_hate label:  0.6658652272391457\n"
     ]
    },
    {
     "name": "stderr",
     "output_type": "stream",
     "text": [
      "                                                                                \r"
     ]
    },
    {
     "name": "stdout",
     "output_type": "stream",
     "text": [
      "Evaluation on test for identity_hate label: 0.6597944707665587\n"
     ]
    }
   ],
   "source": [
    "def pipeline(train, label, gridNumFeatures):\n",
    "    tokenizer = Tokenizer(inputCol=\"comment_text\", outputCol=\"words\")\n",
    "    hashingTF = HashingTF(inputCol=tokenizer.getOutputCol(), outputCol=\"featuresHF\")\n",
    "    idf = IDF(inputCol=hashingTF.getOutputCol(), outputCol=\"featuresTFIDF\")\n",
    "    lr = LogisticRegression(featuresCol='featuresTFIDF',\n",
    "                            labelCol=label,\n",
    "                            maxIter=10)\n",
    "    pipeline = Pipeline(stages=[tokenizer, hashingTF, idf, lr])\n",
    "\n",
    "    paramGrid = ParamGridBuilder() \\\n",
    "        .addGrid(hashingTF.numFeatures, gridNumFeatures) \\\n",
    "        .build()\n",
    "\n",
    "    crossval = CrossValidator(estimator=pipeline,\n",
    "                              estimatorParamMaps=paramGrid,\n",
    "                              evaluator=BinaryClassificationEvaluator().setLabelCol(label),\n",
    "                              numFolds=3,\n",
    "                              seed = 1234)\n",
    "\n",
    "    # Run cross-validation, and choose the best set of parameters.\n",
    "    cvModel = crossval.fit(train)\n",
    "    return cvModel\n",
    "\n",
    "labels = ['toxic','severe_toxic','obscene','threat','insult','identity_hate']\n",
    "for label in labels:\n",
    "    cvModel = pipeline(train, label, [20])\n",
    "    evaluator = BinaryClassificationEvaluator(labelCol=label)\n",
    "    predictions = cvModel.transform(test)\n",
    "    print(f\"Crossval score for {label} label:  {cvModel.avgMetrics[0]}\")\n",
    "    print(f\"Evaluation on test for {label} label: {evaluator.evaluate(predictions)}\")\n"
   ]
  },
  {
   "cell_type": "markdown",
   "id": "983bd2ee",
   "metadata": {},
   "source": [
    "Скор для тестовой выборки больше всего для предсказания threat, хуже для severe_toxic (хоть и скор на кросс валидации здесь выше всего). Посмотрим на зависимость обучения от параметра NumFeatures для лейбла threat"
   ]
  },
  {
   "cell_type": "code",
   "execution_count": 54,
   "id": "de76d185",
   "metadata": {},
   "outputs": [
    {
     "name": "stderr",
     "output_type": "stream",
     "text": [
      "                                                                                \r"
     ]
    },
    {
     "name": "stdout",
     "output_type": "stream",
     "text": [
      "[(10, 0.6735425721573103), (20, 0.692845788869684), (30, 0.6766676325145138), (40, 0.7310339832212859), (50, 0.7381091070576412), (60, 0.7515054462074433), (70, 0.75769814460171), (80, 0.767470476667302)]\n"
     ]
    }
   ],
   "source": [
    "gridNumFeatures = [10, 20, 30, 40, 50, 60, 70, 80]\n",
    "cvModel = pipeline(train, 'threat', gridNumFeatures)\n",
    "print(list(zip(gridNumFeatures, cvModel.avgMetrics)))"
   ]
  },
  {
   "cell_type": "markdown",
   "id": "f7056b1e",
   "metadata": {},
   "source": [
    "По ходу обучения видно, что для NumFeatures = 80, скор самый высокий. Но для каждого лейбла следует смотреть этот параметр отдельно, либо принять для всех пара"
   ]
  },
  {
   "cell_type": "markdown",
   "id": "2e751d3e",
   "metadata": {},
   "source": [
    "## Блок 2. Word2Vec\n",
    "\n",
    "1) Подготовить фичи комментариев с помощью w2v\n",
    "\n",
    "2) Обучить линейный классификатор и сравнить метрики качества спредыдущими подходами"
   ]
  },
  {
   "cell_type": "code",
   "execution_count": 60,
   "id": "3ae00fba",
   "metadata": {},
   "outputs": [],
   "source": [
    "def pipeline_w2v(train, label, gridVecSize):\n",
    "    tokenizer = Tokenizer(inputCol=\"comment_text\", outputCol=\"words\")\n",
    "    word2Vec = Word2Vec(seed=1234, inputCol=tokenizer.getOutputCol(), outputCol=\"featuresW2V\")\n",
    "\n",
    "    lr = LogisticRegression(featuresCol='featuresW2V',\n",
    "                            labelCol=label,\n",
    "                            maxIter=10)\n",
    "    pipeline = Pipeline(stages=[tokenizer, word2Vec, lr])\n",
    "\n",
    "    paramGrid = ParamGridBuilder() \\\n",
    "        .addGrid(word2Vec.vectorSize, gridVecSize) \\\n",
    "        .build()\n",
    "\n",
    "    crossval = CrossValidator(estimator=pipeline,\n",
    "                              estimatorParamMaps=paramGrid,\n",
    "                              evaluator=BinaryClassificationEvaluator().setLabelCol(label),\n",
    "                              numFolds=3,\n",
    "                              seed = 1234)\n",
    "\n",
    "    # Run cross-validation, and choose the best set of parameters.\n",
    "    cvModel = crossval.fit(train)\n",
    "    return cvModel"
   ]
  },
  {
   "cell_type": "code",
   "execution_count": 62,
   "id": "557ac919",
   "metadata": {},
   "outputs": [
    {
     "name": "stderr",
     "output_type": "stream",
     "text": [
      "                                                                                \r"
     ]
    },
    {
     "name": "stdout",
     "output_type": "stream",
     "text": [
      "Crossval score for toxic label:  0.8909961345541989\n"
     ]
    },
    {
     "name": "stderr",
     "output_type": "stream",
     "text": [
      "                                                                                \r"
     ]
    },
    {
     "name": "stdout",
     "output_type": "stream",
     "text": [
      "Evaluation on test for toxic label: 0.8124439339797731\n"
     ]
    },
    {
     "name": "stderr",
     "output_type": "stream",
     "text": [
      "                                                                                \r"
     ]
    },
    {
     "name": "stdout",
     "output_type": "stream",
     "text": [
      "Crossval score for severe_toxic label:  0.9580426705339712\n"
     ]
    },
    {
     "name": "stderr",
     "output_type": "stream",
     "text": [
      "                                                                                \r"
     ]
    },
    {
     "name": "stdout",
     "output_type": "stream",
     "text": [
      "Evaluation on test for severe_toxic label: 0.9253557715862388\n"
     ]
    },
    {
     "name": "stderr",
     "output_type": "stream",
     "text": [
      "                                                                                \r"
     ]
    },
    {
     "name": "stdout",
     "output_type": "stream",
     "text": [
      "Crossval score for obscene label:  0.9195509046376463\n"
     ]
    },
    {
     "name": "stderr",
     "output_type": "stream",
     "text": [
      "                                                                                \r"
     ]
    },
    {
     "name": "stdout",
     "output_type": "stream",
     "text": [
      "Evaluation on test for obscene label: 0.8454880520234984\n"
     ]
    },
    {
     "name": "stderr",
     "output_type": "stream",
     "text": [
      "                                                                                \r"
     ]
    },
    {
     "name": "stdout",
     "output_type": "stream",
     "text": [
      "Crossval score for threat label:  0.8662773173480119\n"
     ]
    },
    {
     "name": "stderr",
     "output_type": "stream",
     "text": [
      "                                                                                \r"
     ]
    },
    {
     "name": "stdout",
     "output_type": "stream",
     "text": [
      "Evaluation on test for threat label: 0.8501881893341252\n"
     ]
    },
    {
     "name": "stderr",
     "output_type": "stream",
     "text": [
      "                                                                                \r"
     ]
    },
    {
     "name": "stdout",
     "output_type": "stream",
     "text": [
      "Crossval score for insult label:  0.9134482351043357\n"
     ]
    },
    {
     "name": "stderr",
     "output_type": "stream",
     "text": [
      "                                                                                \r"
     ]
    },
    {
     "name": "stdout",
     "output_type": "stream",
     "text": [
      "Evaluation on test for insult label: 0.8408644995902042\n"
     ]
    },
    {
     "name": "stderr",
     "output_type": "stream",
     "text": [
      "                                                                                \r"
     ]
    },
    {
     "name": "stdout",
     "output_type": "stream",
     "text": [
      "Crossval score for identity_hate label:  0.900358957971887\n"
     ]
    },
    {
     "name": "stderr",
     "output_type": "stream",
     "text": [
      "                                                                                \r"
     ]
    },
    {
     "name": "stdout",
     "output_type": "stream",
     "text": [
      "Evaluation on test for identity_hate label: 0.8736714412891624\n"
     ]
    }
   ],
   "source": [
    "labels = ['toxic','severe_toxic','obscene','threat','insult','identity_hate']\n",
    "for label in labels:\n",
    "    cvModel = pipeline_w2v(train, label, [5])\n",
    "    evaluator = BinaryClassificationEvaluator(labelCol=label)\n",
    "    predictions = cvModel.transform(test)\n",
    "    print(f\"Crossval score for {label} label:  {cvModel.avgMetrics[0]}\")\n",
    "    print(f\"Evaluation on test for {label} label: {evaluator.evaluate(predictions)}\")"
   ]
  },
  {
   "cell_type": "markdown",
   "id": "5815abd7",
   "metadata": {},
   "source": [
    "Качество моделей с использованием word2vec намного выше для всех лейблов. Посмотрим значения скора для разного размера VecSize по лейблу severe_toxic."
   ]
  },
  {
   "cell_type": "code",
   "execution_count": 63,
   "id": "b930f906",
   "metadata": {},
   "outputs": [
    {
     "name": "stderr",
     "output_type": "stream",
     "text": [
      "                                                                                \r"
     ]
    },
    {
     "name": "stdout",
     "output_type": "stream",
     "text": [
      "[(5, 0.9580426705339712), (10, 0.9646409212514432), (15, 0.9664250465869846), (20, 0.9698464331270799), (25, 0.969739924440807), (30, 0.9698489497127554)]\n"
     ]
    }
   ],
   "source": [
    "gridVecSize = [5, 10, 15, 20, 25, 30]\n",
    "cvModel = pipeline_w2v(train, 'severe_toxic', gridVecSize)\n",
    "print(list(zip(gridVecSize, cvModel.avgMetrics)))"
   ]
  },
  {
   "cell_type": "markdown",
   "id": "04248ba0",
   "metadata": {},
   "source": [
    "С увеличением длины векторного представления качество модели растет."
   ]
  }
 ],
 "metadata": {
  "kernelspec": {
   "display_name": "Python 3 (ipykernel)",
   "language": "python",
   "name": "python3"
  },
  "language_info": {
   "codemirror_mode": {
    "name": "ipython",
    "version": 3
   },
   "file_extension": ".py",
   "mimetype": "text/x-python",
   "name": "python",
   "nbconvert_exporter": "python",
   "pygments_lexer": "ipython3",
   "version": "3.8.13"
  }
 },
 "nbformat": 4,
 "nbformat_minor": 5
}
